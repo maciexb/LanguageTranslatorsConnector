{
 "cells": [
  {
   "cell_type": "code",
   "execution_count": null,
   "metadata": {},
   "outputs": [],
   "source": [
    "class FileNames:\n",
    "    ubuntu_pl = \"Ubuntu_pl.txt\"\n",
    "    ubuntu_eng = \"Ubuntu_eng.txt\"\n",
    "    bible_pl = \"Bible_pl.txt\"\n",
    "    bible_eng = \"Bible_eng.txt\"\n",
    "    book_pl = \"Book_pl.txt\"\n",
    "    book_eng = \"Book_eng.txt\"\n",
    "    subtitles_pl = \"Subtitles_pl.txt\"\n",
    "    subtitles_eng = \"Subtitles_en.txt\"\n",
    "    wikipedia_pl = \"Wikipedia_pl.txt\"\n",
    "    wikipedia_eng = \"Wikipedia_eng.txt\"\n",
    "    "
   ]
  }
 ],
 "metadata": {
  "kernelspec": {
   "display_name": "Python 3",
   "language": "python",
   "name": "python3"
  },
  "language_info": {
   "codemirror_mode": {
    "name": "ipython",
    "version": 3
   },
   "file_extension": ".py",
   "mimetype": "text/x-python",
   "name": "python",
   "nbconvert_exporter": "python",
   "pygments_lexer": "ipython3",
   "version": "3.7.6"
  }
 },
 "nbformat": 4,
 "nbformat_minor": 4
}
